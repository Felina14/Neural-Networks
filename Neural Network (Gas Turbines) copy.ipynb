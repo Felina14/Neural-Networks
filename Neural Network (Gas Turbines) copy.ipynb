{
 "cells": [
  {
   "cell_type": "code",
   "execution_count": 2,
   "id": "c3e723b7",
   "metadata": {},
   "outputs": [
    {
     "name": "stdout",
     "output_type": "stream",
     "text": [
      "WARNING:tensorflow:From C:\\Users\\my computer\\anaconda3\\lib\\site-packages\\keras\\src\\losses.py:2976: The name tf.losses.sparse_softmax_cross_entropy is deprecated. Please use tf.compat.v1.losses.sparse_softmax_cross_entropy instead.\n",
      "\n"
     ]
    }
   ],
   "source": [
    "import pandas as pd\n",
    "import numpy as np\n",
    "import matplotlib.pyplot as plt\n",
    "import seaborn as sns\n",
    "import keras\n",
    "from sklearn.metrics import mean_squared_error\n",
    "from keras.layers import Dense\n",
    "from keras.optimizers import RMSprop\n",
    "from keras.models import Sequential\n",
    "from sklearn.model_selection import train_test_split\n",
    "from sklearn.preprocessing import StandardScaler,LabelEncoder,MinMaxScaler,Normalizer\n",
    "from tensorflow.keras.losses import MeanSquaredError\n",
    "import tensorflow as tf\n",
    "tf.debugging.set_log_device_placement(False) \n",
    "import warnings\n",
    "warnings.filterwarnings('ignore')"
   ]
  },
  {
   "cell_type": "code",
   "execution_count": 3,
   "id": "62da1626",
   "metadata": {},
   "outputs": [],
   "source": [
    "df=pd.read_csv(r'gas_turbines.csv')"
   ]
  },
  {
   "cell_type": "code",
   "execution_count": 10,
   "id": "f7148cb6",
   "metadata": {},
   "outputs": [
    {
     "data": {
      "text/html": [
       "<div>\n",
       "<style scoped>\n",
       "    .dataframe tbody tr th:only-of-type {\n",
       "        vertical-align: middle;\n",
       "    }\n",
       "\n",
       "    .dataframe tbody tr th {\n",
       "        vertical-align: top;\n",
       "    }\n",
       "\n",
       "    .dataframe thead th {\n",
       "        text-align: right;\n",
       "    }\n",
       "</style>\n",
       "<table border=\"1\" class=\"dataframe\">\n",
       "  <thead>\n",
       "    <tr style=\"text-align: right;\">\n",
       "      <th></th>\n",
       "      <th>AT</th>\n",
       "      <th>AP</th>\n",
       "      <th>AH</th>\n",
       "      <th>TEY</th>\n",
       "    </tr>\n",
       "  </thead>\n",
       "  <tbody>\n",
       "    <tr>\n",
       "      <th>0</th>\n",
       "      <td>6.8594</td>\n",
       "      <td>1007.9</td>\n",
       "      <td>96.799</td>\n",
       "      <td>114.70</td>\n",
       "    </tr>\n",
       "    <tr>\n",
       "      <th>1</th>\n",
       "      <td>6.7850</td>\n",
       "      <td>1008.4</td>\n",
       "      <td>97.118</td>\n",
       "      <td>114.72</td>\n",
       "    </tr>\n",
       "    <tr>\n",
       "      <th>2</th>\n",
       "      <td>6.8977</td>\n",
       "      <td>1008.8</td>\n",
       "      <td>95.939</td>\n",
       "      <td>114.71</td>\n",
       "    </tr>\n",
       "    <tr>\n",
       "      <th>3</th>\n",
       "      <td>7.0569</td>\n",
       "      <td>1009.2</td>\n",
       "      <td>95.249</td>\n",
       "      <td>114.72</td>\n",
       "    </tr>\n",
       "    <tr>\n",
       "      <th>4</th>\n",
       "      <td>7.3978</td>\n",
       "      <td>1009.7</td>\n",
       "      <td>95.150</td>\n",
       "      <td>114.72</td>\n",
       "    </tr>\n",
       "    <tr>\n",
       "      <th>...</th>\n",
       "      <td>...</td>\n",
       "      <td>...</td>\n",
       "      <td>...</td>\n",
       "      <td>...</td>\n",
       "    </tr>\n",
       "    <tr>\n",
       "      <th>15034</th>\n",
       "      <td>9.0301</td>\n",
       "      <td>1005.6</td>\n",
       "      <td>98.460</td>\n",
       "      <td>111.61</td>\n",
       "    </tr>\n",
       "    <tr>\n",
       "      <th>15035</th>\n",
       "      <td>7.8879</td>\n",
       "      <td>1005.9</td>\n",
       "      <td>99.093</td>\n",
       "      <td>111.78</td>\n",
       "    </tr>\n",
       "    <tr>\n",
       "      <th>15036</th>\n",
       "      <td>7.2647</td>\n",
       "      <td>1006.3</td>\n",
       "      <td>99.496</td>\n",
       "      <td>110.19</td>\n",
       "    </tr>\n",
       "    <tr>\n",
       "      <th>15037</th>\n",
       "      <td>7.0060</td>\n",
       "      <td>1006.8</td>\n",
       "      <td>99.008</td>\n",
       "      <td>110.74</td>\n",
       "    </tr>\n",
       "    <tr>\n",
       "      <th>15038</th>\n",
       "      <td>6.9279</td>\n",
       "      <td>1007.2</td>\n",
       "      <td>97.533</td>\n",
       "      <td>111.58</td>\n",
       "    </tr>\n",
       "  </tbody>\n",
       "</table>\n",
       "<p>15039 rows × 4 columns</p>\n",
       "</div>"
      ],
      "text/plain": [
       "           AT      AP      AH     TEY\n",
       "0      6.8594  1007.9  96.799  114.70\n",
       "1      6.7850  1008.4  97.118  114.72\n",
       "2      6.8977  1008.8  95.939  114.71\n",
       "3      7.0569  1009.2  95.249  114.72\n",
       "4      7.3978  1009.7  95.150  114.72\n",
       "...       ...     ...     ...     ...\n",
       "15034  9.0301  1005.6  98.460  111.61\n",
       "15035  7.8879  1005.9  99.093  111.78\n",
       "15036  7.2647  1006.3  99.496  110.19\n",
       "15037  7.0060  1006.8  99.008  110.74\n",
       "15038  6.9279  1007.2  97.533  111.58\n",
       "\n",
       "[15039 rows x 4 columns]"
      ]
     },
     "execution_count": 10,
     "metadata": {},
     "output_type": "execute_result"
    }
   ],
   "source": [
    "df"
   ]
  },
  {
   "cell_type": "code",
   "execution_count": 11,
   "id": "e6a0fe86",
   "metadata": {},
   "outputs": [
    {
     "data": {
      "text/plain": [
       "Index(['AT', 'AP', 'AH', 'TEY'], dtype='object')"
      ]
     },
     "execution_count": 11,
     "metadata": {},
     "output_type": "execute_result"
    }
   ],
   "source": [
    "df.columns"
   ]
  },
  {
   "cell_type": "code",
   "execution_count": 12,
   "id": "d2cd1091",
   "metadata": {},
   "outputs": [
    {
     "ename": "KeyError",
     "evalue": "\"['AFDP', 'GTEP', 'TIT', 'TAT', 'CDP', 'CO', 'NOX'] not found in axis\"",
     "output_type": "error",
     "traceback": [
      "\u001b[1;31m---------------------------------------------------------------------------\u001b[0m",
      "\u001b[1;31mKeyError\u001b[0m                                  Traceback (most recent call last)",
      "Cell \u001b[1;32mIn[12], line 1\u001b[0m\n\u001b[1;32m----> 1\u001b[0m df\u001b[38;5;241m=\u001b[39m\u001b[43mdf\u001b[49m\u001b[38;5;241;43m.\u001b[39;49m\u001b[43mdrop\u001b[49m\u001b[43m(\u001b[49m\u001b[43m[\u001b[49m\u001b[38;5;124;43m'\u001b[39;49m\u001b[38;5;124;43mAFDP\u001b[39;49m\u001b[38;5;124;43m'\u001b[39;49m\u001b[43m,\u001b[49m\u001b[43m \u001b[49m\u001b[38;5;124;43m'\u001b[39;49m\u001b[38;5;124;43mGTEP\u001b[39;49m\u001b[38;5;124;43m'\u001b[39;49m\u001b[43m,\u001b[49m\u001b[43m \u001b[49m\u001b[38;5;124;43m'\u001b[39;49m\u001b[38;5;124;43mTIT\u001b[39;49m\u001b[38;5;124;43m'\u001b[39;49m\u001b[43m,\u001b[49m\u001b[43m \u001b[49m\u001b[38;5;124;43m'\u001b[39;49m\u001b[38;5;124;43mTAT\u001b[39;49m\u001b[38;5;124;43m'\u001b[39;49m\u001b[43m,\u001b[49m\u001b[38;5;124;43m'\u001b[39;49m\u001b[38;5;124;43mCDP\u001b[39;49m\u001b[38;5;124;43m'\u001b[39;49m\u001b[43m,\u001b[49m\u001b[43m \u001b[49m\u001b[38;5;124;43m'\u001b[39;49m\u001b[38;5;124;43mCO\u001b[39;49m\u001b[38;5;124;43m'\u001b[39;49m\u001b[43m,\u001b[49m\u001b[43m \u001b[49m\u001b[38;5;124;43m'\u001b[39;49m\u001b[38;5;124;43mNOX\u001b[39;49m\u001b[38;5;124;43m'\u001b[39;49m\u001b[43m]\u001b[49m\u001b[43m,\u001b[49m\u001b[43maxis\u001b[49m\u001b[38;5;241;43m=\u001b[39;49m\u001b[38;5;241;43m1\u001b[39;49m\u001b[43m)\u001b[49m\n\u001b[0;32m      2\u001b[0m df\n",
      "File \u001b[1;32m~\\anaconda3\\lib\\site-packages\\pandas\\util\\_decorators.py:331\u001b[0m, in \u001b[0;36mdeprecate_nonkeyword_arguments.<locals>.decorate.<locals>.wrapper\u001b[1;34m(*args, **kwargs)\u001b[0m\n\u001b[0;32m    325\u001b[0m \u001b[38;5;28;01mif\u001b[39;00m \u001b[38;5;28mlen\u001b[39m(args) \u001b[38;5;241m>\u001b[39m num_allow_args:\n\u001b[0;32m    326\u001b[0m     warnings\u001b[38;5;241m.\u001b[39mwarn(\n\u001b[0;32m    327\u001b[0m         msg\u001b[38;5;241m.\u001b[39mformat(arguments\u001b[38;5;241m=\u001b[39m_format_argument_list(allow_args)),\n\u001b[0;32m    328\u001b[0m         \u001b[38;5;167;01mFutureWarning\u001b[39;00m,\n\u001b[0;32m    329\u001b[0m         stacklevel\u001b[38;5;241m=\u001b[39mfind_stack_level(),\n\u001b[0;32m    330\u001b[0m     )\n\u001b[1;32m--> 331\u001b[0m \u001b[38;5;28;01mreturn\u001b[39;00m func(\u001b[38;5;241m*\u001b[39margs, \u001b[38;5;241m*\u001b[39m\u001b[38;5;241m*\u001b[39mkwargs)\n",
      "File \u001b[1;32m~\\anaconda3\\lib\\site-packages\\pandas\\core\\frame.py:5399\u001b[0m, in \u001b[0;36mDataFrame.drop\u001b[1;34m(self, labels, axis, index, columns, level, inplace, errors)\u001b[0m\n\u001b[0;32m   5251\u001b[0m \u001b[38;5;129m@deprecate_nonkeyword_arguments\u001b[39m(version\u001b[38;5;241m=\u001b[39m\u001b[38;5;28;01mNone\u001b[39;00m, allowed_args\u001b[38;5;241m=\u001b[39m[\u001b[38;5;124m\"\u001b[39m\u001b[38;5;124mself\u001b[39m\u001b[38;5;124m\"\u001b[39m, \u001b[38;5;124m\"\u001b[39m\u001b[38;5;124mlabels\u001b[39m\u001b[38;5;124m\"\u001b[39m])\n\u001b[0;32m   5252\u001b[0m \u001b[38;5;28;01mdef\u001b[39;00m \u001b[38;5;21mdrop\u001b[39m(  \u001b[38;5;66;03m# type: ignore[override]\u001b[39;00m\n\u001b[0;32m   5253\u001b[0m     \u001b[38;5;28mself\u001b[39m,\n\u001b[1;32m   (...)\u001b[0m\n\u001b[0;32m   5260\u001b[0m     errors: IgnoreRaise \u001b[38;5;241m=\u001b[39m \u001b[38;5;124m\"\u001b[39m\u001b[38;5;124mraise\u001b[39m\u001b[38;5;124m\"\u001b[39m,\n\u001b[0;32m   5261\u001b[0m ) \u001b[38;5;241m-\u001b[39m\u001b[38;5;241m>\u001b[39m DataFrame \u001b[38;5;241m|\u001b[39m \u001b[38;5;28;01mNone\u001b[39;00m:\n\u001b[0;32m   5262\u001b[0m \u001b[38;5;250m    \u001b[39m\u001b[38;5;124;03m\"\"\"\u001b[39;00m\n\u001b[0;32m   5263\u001b[0m \u001b[38;5;124;03m    Drop specified labels from rows or columns.\u001b[39;00m\n\u001b[0;32m   5264\u001b[0m \n\u001b[1;32m   (...)\u001b[0m\n\u001b[0;32m   5397\u001b[0m \u001b[38;5;124;03m            weight  1.0     0.8\u001b[39;00m\n\u001b[0;32m   5398\u001b[0m \u001b[38;5;124;03m    \"\"\"\u001b[39;00m\n\u001b[1;32m-> 5399\u001b[0m     \u001b[38;5;28;01mreturn\u001b[39;00m \u001b[38;5;28;43msuper\u001b[39;49m\u001b[43m(\u001b[49m\u001b[43m)\u001b[49m\u001b[38;5;241;43m.\u001b[39;49m\u001b[43mdrop\u001b[49m\u001b[43m(\u001b[49m\n\u001b[0;32m   5400\u001b[0m \u001b[43m        \u001b[49m\u001b[43mlabels\u001b[49m\u001b[38;5;241;43m=\u001b[39;49m\u001b[43mlabels\u001b[49m\u001b[43m,\u001b[49m\n\u001b[0;32m   5401\u001b[0m \u001b[43m        \u001b[49m\u001b[43maxis\u001b[49m\u001b[38;5;241;43m=\u001b[39;49m\u001b[43maxis\u001b[49m\u001b[43m,\u001b[49m\n\u001b[0;32m   5402\u001b[0m \u001b[43m        \u001b[49m\u001b[43mindex\u001b[49m\u001b[38;5;241;43m=\u001b[39;49m\u001b[43mindex\u001b[49m\u001b[43m,\u001b[49m\n\u001b[0;32m   5403\u001b[0m \u001b[43m        \u001b[49m\u001b[43mcolumns\u001b[49m\u001b[38;5;241;43m=\u001b[39;49m\u001b[43mcolumns\u001b[49m\u001b[43m,\u001b[49m\n\u001b[0;32m   5404\u001b[0m \u001b[43m        \u001b[49m\u001b[43mlevel\u001b[49m\u001b[38;5;241;43m=\u001b[39;49m\u001b[43mlevel\u001b[49m\u001b[43m,\u001b[49m\n\u001b[0;32m   5405\u001b[0m \u001b[43m        \u001b[49m\u001b[43minplace\u001b[49m\u001b[38;5;241;43m=\u001b[39;49m\u001b[43minplace\u001b[49m\u001b[43m,\u001b[49m\n\u001b[0;32m   5406\u001b[0m \u001b[43m        \u001b[49m\u001b[43merrors\u001b[49m\u001b[38;5;241;43m=\u001b[39;49m\u001b[43merrors\u001b[49m\u001b[43m,\u001b[49m\n\u001b[0;32m   5407\u001b[0m \u001b[43m    \u001b[49m\u001b[43m)\u001b[49m\n",
      "File \u001b[1;32m~\\anaconda3\\lib\\site-packages\\pandas\\util\\_decorators.py:331\u001b[0m, in \u001b[0;36mdeprecate_nonkeyword_arguments.<locals>.decorate.<locals>.wrapper\u001b[1;34m(*args, **kwargs)\u001b[0m\n\u001b[0;32m    325\u001b[0m \u001b[38;5;28;01mif\u001b[39;00m \u001b[38;5;28mlen\u001b[39m(args) \u001b[38;5;241m>\u001b[39m num_allow_args:\n\u001b[0;32m    326\u001b[0m     warnings\u001b[38;5;241m.\u001b[39mwarn(\n\u001b[0;32m    327\u001b[0m         msg\u001b[38;5;241m.\u001b[39mformat(arguments\u001b[38;5;241m=\u001b[39m_format_argument_list(allow_args)),\n\u001b[0;32m    328\u001b[0m         \u001b[38;5;167;01mFutureWarning\u001b[39;00m,\n\u001b[0;32m    329\u001b[0m         stacklevel\u001b[38;5;241m=\u001b[39mfind_stack_level(),\n\u001b[0;32m    330\u001b[0m     )\n\u001b[1;32m--> 331\u001b[0m \u001b[38;5;28;01mreturn\u001b[39;00m func(\u001b[38;5;241m*\u001b[39margs, \u001b[38;5;241m*\u001b[39m\u001b[38;5;241m*\u001b[39mkwargs)\n",
      "File \u001b[1;32m~\\anaconda3\\lib\\site-packages\\pandas\\core\\generic.py:4505\u001b[0m, in \u001b[0;36mNDFrame.drop\u001b[1;34m(self, labels, axis, index, columns, level, inplace, errors)\u001b[0m\n\u001b[0;32m   4503\u001b[0m \u001b[38;5;28;01mfor\u001b[39;00m axis, labels \u001b[38;5;129;01min\u001b[39;00m axes\u001b[38;5;241m.\u001b[39mitems():\n\u001b[0;32m   4504\u001b[0m     \u001b[38;5;28;01mif\u001b[39;00m labels \u001b[38;5;129;01mis\u001b[39;00m \u001b[38;5;129;01mnot\u001b[39;00m \u001b[38;5;28;01mNone\u001b[39;00m:\n\u001b[1;32m-> 4505\u001b[0m         obj \u001b[38;5;241m=\u001b[39m \u001b[43mobj\u001b[49m\u001b[38;5;241;43m.\u001b[39;49m\u001b[43m_drop_axis\u001b[49m\u001b[43m(\u001b[49m\u001b[43mlabels\u001b[49m\u001b[43m,\u001b[49m\u001b[43m \u001b[49m\u001b[43maxis\u001b[49m\u001b[43m,\u001b[49m\u001b[43m \u001b[49m\u001b[43mlevel\u001b[49m\u001b[38;5;241;43m=\u001b[39;49m\u001b[43mlevel\u001b[49m\u001b[43m,\u001b[49m\u001b[43m \u001b[49m\u001b[43merrors\u001b[49m\u001b[38;5;241;43m=\u001b[39;49m\u001b[43merrors\u001b[49m\u001b[43m)\u001b[49m\n\u001b[0;32m   4507\u001b[0m \u001b[38;5;28;01mif\u001b[39;00m inplace:\n\u001b[0;32m   4508\u001b[0m     \u001b[38;5;28mself\u001b[39m\u001b[38;5;241m.\u001b[39m_update_inplace(obj)\n",
      "File \u001b[1;32m~\\anaconda3\\lib\\site-packages\\pandas\\core\\generic.py:4546\u001b[0m, in \u001b[0;36mNDFrame._drop_axis\u001b[1;34m(self, labels, axis, level, errors, only_slice)\u001b[0m\n\u001b[0;32m   4544\u001b[0m         new_axis \u001b[38;5;241m=\u001b[39m axis\u001b[38;5;241m.\u001b[39mdrop(labels, level\u001b[38;5;241m=\u001b[39mlevel, errors\u001b[38;5;241m=\u001b[39merrors)\n\u001b[0;32m   4545\u001b[0m     \u001b[38;5;28;01melse\u001b[39;00m:\n\u001b[1;32m-> 4546\u001b[0m         new_axis \u001b[38;5;241m=\u001b[39m \u001b[43maxis\u001b[49m\u001b[38;5;241;43m.\u001b[39;49m\u001b[43mdrop\u001b[49m\u001b[43m(\u001b[49m\u001b[43mlabels\u001b[49m\u001b[43m,\u001b[49m\u001b[43m \u001b[49m\u001b[43merrors\u001b[49m\u001b[38;5;241;43m=\u001b[39;49m\u001b[43merrors\u001b[49m\u001b[43m)\u001b[49m\n\u001b[0;32m   4547\u001b[0m     indexer \u001b[38;5;241m=\u001b[39m axis\u001b[38;5;241m.\u001b[39mget_indexer(new_axis)\n\u001b[0;32m   4549\u001b[0m \u001b[38;5;66;03m# Case for non-unique axis\u001b[39;00m\n\u001b[0;32m   4550\u001b[0m \u001b[38;5;28;01melse\u001b[39;00m:\n",
      "File \u001b[1;32m~\\anaconda3\\lib\\site-packages\\pandas\\core\\indexes\\base.py:6934\u001b[0m, in \u001b[0;36mIndex.drop\u001b[1;34m(self, labels, errors)\u001b[0m\n\u001b[0;32m   6932\u001b[0m \u001b[38;5;28;01mif\u001b[39;00m mask\u001b[38;5;241m.\u001b[39many():\n\u001b[0;32m   6933\u001b[0m     \u001b[38;5;28;01mif\u001b[39;00m errors \u001b[38;5;241m!=\u001b[39m \u001b[38;5;124m\"\u001b[39m\u001b[38;5;124mignore\u001b[39m\u001b[38;5;124m\"\u001b[39m:\n\u001b[1;32m-> 6934\u001b[0m         \u001b[38;5;28;01mraise\u001b[39;00m \u001b[38;5;167;01mKeyError\u001b[39;00m(\u001b[38;5;124mf\u001b[39m\u001b[38;5;124m\"\u001b[39m\u001b[38;5;132;01m{\u001b[39;00m\u001b[38;5;28mlist\u001b[39m(labels[mask])\u001b[38;5;132;01m}\u001b[39;00m\u001b[38;5;124m not found in axis\u001b[39m\u001b[38;5;124m\"\u001b[39m)\n\u001b[0;32m   6935\u001b[0m     indexer \u001b[38;5;241m=\u001b[39m indexer[\u001b[38;5;241m~\u001b[39mmask]\n\u001b[0;32m   6936\u001b[0m \u001b[38;5;28;01mreturn\u001b[39;00m \u001b[38;5;28mself\u001b[39m\u001b[38;5;241m.\u001b[39mdelete(indexer)\n",
      "\u001b[1;31mKeyError\u001b[0m: \"['AFDP', 'GTEP', 'TIT', 'TAT', 'CDP', 'CO', 'NOX'] not found in axis\""
     ]
    }
   ],
   "source": [
    "df=df.drop(['AFDP', 'GTEP', 'TIT', 'TAT','CDP', 'CO', 'NOX'],axis=1)\n",
    "df"
   ]
  },
  {
   "cell_type": "code",
   "execution_count": 13,
   "id": "ad9841e8",
   "metadata": {},
   "outputs": [
    {
     "data": {
      "text/plain": [
       "array([[0.00677431, 0.99539695, 0.0955982 ],\n",
       "       [0.00669734, 0.99537198, 0.09586328],\n",
       "       [0.00680666, 0.99548518, 0.09467273],\n",
       "       ...,\n",
       "       [0.007184  , 0.99512192, 0.09839079],\n",
       "       [0.00692511, 0.99517562, 0.09786487],\n",
       "       [0.00684619, 0.99532081, 0.09638267]])"
      ]
     },
     "execution_count": 13,
     "metadata": {},
     "output_type": "execute_result"
    }
   ],
   "source": [
    "X=df.drop('TEY',axis=1)\n",
    "X=keras.utils.normalize(X.values)\n",
    "X"
   ]
  },
  {
   "cell_type": "code",
   "execution_count": 74,
   "id": "23d06548",
   "metadata": {
    "scrolled": true
   },
   "outputs": [
    {
     "data": {
      "text/plain": [
       "[[array([[1.],\n",
       "         [1.],\n",
       "         [1.],\n",
       "         ...,\n",
       "         [1.],\n",
       "         [1.],\n",
       "         [1.]])]]"
      ]
     },
     "execution_count": 74,
     "metadata": {},
     "output_type": "execute_result"
    }
   ],
   "source": [
    "Y=df[['TEY']]\n",
    "Y=keras.utils.normalize(Y.values)\n",
    "[[Y]]"
   ]
  },
  {
   "cell_type": "code",
   "execution_count": 18,
   "id": "287543c6",
   "metadata": {},
   "outputs": [],
   "source": [
    "x_train,x_test,y_train,y_test=train_test_split(X,Y,train_size=0.75,random_state=30)"
   ]
  },
  {
   "cell_type": "code",
   "execution_count": 43,
   "id": "4e2cd7fe",
   "metadata": {},
   "outputs": [
    {
     "data": {
      "text/plain": [
       "((11279, 3), (3760, 3), (11279, 1), (3760, 1))"
      ]
     },
     "execution_count": 43,
     "metadata": {},
     "output_type": "execute_result"
    }
   ],
   "source": [
    "x_train.shape,x_test.shape,y_train.shape,y_test.shape"
   ]
  },
  {
   "cell_type": "code",
   "execution_count": 93,
   "id": "aaa4f935",
   "metadata": {},
   "outputs": [],
   "source": [
    "model=Sequential()"
   ]
  },
  {
   "cell_type": "code",
   "execution_count": 94,
   "id": "99528a49",
   "metadata": {},
   "outputs": [
    {
     "name": "stdout",
     "output_type": "stream",
     "text": [
      "Model: \"sequential_6\"\n",
      "_________________________________________________________________\n",
      " Layer (type)                Output Shape              Param #   \n",
      "=================================================================\n",
      " dense_20 (Dense)            (None, 4)                 16        \n",
      "                                                                 \n",
      " dense_21 (Dense)            (None, 8)                 40        \n",
      "                                                                 \n",
      " dense_22 (Dense)            (None, 1)                 9         \n",
      "                                                                 \n",
      "=================================================================\n",
      "Total params: 65 (260.00 Byte)\n",
      "Trainable params: 65 (260.00 Byte)\n",
      "Non-trainable params: 0 (0.00 Byte)\n",
      "_________________________________________________________________\n"
     ]
    }
   ],
   "source": [
    "model.add(Dense(4,activation='relu',input_shape=(3,)))\n",
    "model.add(Dense(8,activation='relu'))\n",
    "model.add(Dense(1))\n",
    "model.summary()"
   ]
  },
  {
   "cell_type": "code",
   "execution_count": 95,
   "id": "9fed039b",
   "metadata": {},
   "outputs": [],
   "source": [
    "opt=keras.optimizers.Adam(learning_rate=0.003)"
   ]
  },
  {
   "cell_type": "code",
   "execution_count": 96,
   "id": "a73f197e",
   "metadata": {},
   "outputs": [],
   "source": [
    "model.compile(optimizer=opt,loss='mse',metrics=['mse'])"
   ]
  },
  {
   "cell_type": "code",
   "execution_count": 97,
   "id": "d131b489",
   "metadata": {},
   "outputs": [
    {
     "name": "stdout",
     "output_type": "stream",
     "text": [
      "Epoch 1/80\n",
      "23/23 [==============================] - 1s 12ms/step - loss: 2.8391 - mse: 2.8391 - val_loss: 1.7028 - val_mse: 1.7028\n",
      "Epoch 2/80\n",
      "23/23 [==============================] - 0s 5ms/step - loss: 1.1616 - mse: 1.1616 - val_loss: 0.7150 - val_mse: 0.7150\n",
      "Epoch 3/80\n",
      "23/23 [==============================] - 0s 5ms/step - loss: 0.5318 - mse: 0.5318 - val_loss: 0.3535 - val_mse: 0.3535\n",
      "Epoch 4/80\n",
      "23/23 [==============================] - 0s 5ms/step - loss: 0.2536 - mse: 0.2536 - val_loss: 0.1389 - val_mse: 0.1389\n",
      "Epoch 5/80\n",
      "23/23 [==============================] - 0s 5ms/step - loss: 0.0396 - mse: 0.0396 - val_loss: 0.0042 - val_mse: 0.0042\n",
      "Epoch 6/80\n",
      "23/23 [==============================] - 0s 5ms/step - loss: 0.0029 - mse: 0.0029 - val_loss: 1.3602e-04 - val_mse: 1.3602e-04\n",
      "Epoch 7/80\n",
      "23/23 [==============================] - 0s 5ms/step - loss: 2.5384e-04 - mse: 2.5384e-04 - val_loss: 4.4272e-05 - val_mse: 4.4272e-05\n",
      "Epoch 8/80\n",
      "23/23 [==============================] - 0s 5ms/step - loss: 5.6179e-05 - mse: 5.6179e-05 - val_loss: 4.4314e-05 - val_mse: 4.4314e-05\n",
      "Epoch 9/80\n",
      "23/23 [==============================] - 0s 5ms/step - loss: 4.3143e-05 - mse: 4.3143e-05 - val_loss: 4.3321e-05 - val_mse: 4.3321e-05\n",
      "Epoch 10/80\n",
      "23/23 [==============================] - 0s 5ms/step - loss: 4.1969e-05 - mse: 4.1969e-05 - val_loss: 4.3133e-05 - val_mse: 4.3133e-05\n",
      "Epoch 11/80\n",
      "23/23 [==============================] - 0s 4ms/step - loss: 4.1808e-05 - mse: 4.1808e-05 - val_loss: 4.2973e-05 - val_mse: 4.2973e-05\n",
      "Epoch 12/80\n",
      "23/23 [==============================] - 0s 6ms/step - loss: 4.1686e-05 - mse: 4.1686e-05 - val_loss: 4.2854e-05 - val_mse: 4.2854e-05\n",
      "Epoch 13/80\n",
      "23/23 [==============================] - 0s 6ms/step - loss: 4.1564e-05 - mse: 4.1564e-05 - val_loss: 4.2725e-05 - val_mse: 4.2725e-05\n",
      "Epoch 14/80\n",
      "23/23 [==============================] - 0s 5ms/step - loss: 4.1434e-05 - mse: 4.1434e-05 - val_loss: 4.2585e-05 - val_mse: 4.2585e-05\n",
      "Epoch 15/80\n",
      "23/23 [==============================] - 0s 6ms/step - loss: 4.1299e-05 - mse: 4.1299e-05 - val_loss: 4.2449e-05 - val_mse: 4.2449e-05\n",
      "Epoch 16/80\n",
      "23/23 [==============================] - 0s 5ms/step - loss: 4.1164e-05 - mse: 4.1164e-05 - val_loss: 4.2313e-05 - val_mse: 4.2313e-05\n",
      "Epoch 17/80\n",
      "23/23 [==============================] - 0s 7ms/step - loss: 4.1014e-05 - mse: 4.1014e-05 - val_loss: 4.2149e-05 - val_mse: 4.2149e-05\n",
      "Epoch 18/80\n",
      "23/23 [==============================] - 0s 6ms/step - loss: 4.0883e-05 - mse: 4.0883e-05 - val_loss: 4.1997e-05 - val_mse: 4.1997e-05\n",
      "Epoch 19/80\n",
      "23/23 [==============================] - 0s 6ms/step - loss: 4.0717e-05 - mse: 4.0717e-05 - val_loss: 4.1836e-05 - val_mse: 4.1836e-05\n",
      "Epoch 20/80\n",
      "23/23 [==============================] - 0s 7ms/step - loss: 4.0552e-05 - mse: 4.0552e-05 - val_loss: 4.1695e-05 - val_mse: 4.1695e-05\n",
      "Epoch 21/80\n",
      "23/23 [==============================] - 0s 6ms/step - loss: 4.0403e-05 - mse: 4.0403e-05 - val_loss: 4.1522e-05 - val_mse: 4.1522e-05\n",
      "Epoch 22/80\n",
      "23/23 [==============================] - 0s 12ms/step - loss: 4.0230e-05 - mse: 4.0230e-05 - val_loss: 4.1337e-05 - val_mse: 4.1337e-05\n",
      "Epoch 23/80\n",
      "23/23 [==============================] - 0s 5ms/step - loss: 4.0065e-05 - mse: 4.0065e-05 - val_loss: 4.1165e-05 - val_mse: 4.1165e-05\n",
      "Epoch 24/80\n",
      "23/23 [==============================] - 0s 5ms/step - loss: 3.9894e-05 - mse: 3.9894e-05 - val_loss: 4.1003e-05 - val_mse: 4.1003e-05\n",
      "Epoch 25/80\n",
      "23/23 [==============================] - 0s 5ms/step - loss: 3.9710e-05 - mse: 3.9710e-05 - val_loss: 4.0805e-05 - val_mse: 4.0805e-05\n",
      "Epoch 26/80\n",
      "23/23 [==============================] - 0s 6ms/step - loss: 3.9532e-05 - mse: 3.9532e-05 - val_loss: 4.0626e-05 - val_mse: 4.0626e-05\n",
      "Epoch 27/80\n",
      "23/23 [==============================] - 0s 8ms/step - loss: 3.9365e-05 - mse: 3.9365e-05 - val_loss: 4.0432e-05 - val_mse: 4.0432e-05\n",
      "Epoch 28/80\n",
      "23/23 [==============================] - 0s 7ms/step - loss: 3.9200e-05 - mse: 3.9200e-05 - val_loss: 4.0303e-05 - val_mse: 4.0303e-05\n",
      "Epoch 29/80\n",
      "23/23 [==============================] - 0s 6ms/step - loss: 3.9014e-05 - mse: 3.9014e-05 - val_loss: 4.0097e-05 - val_mse: 4.0097e-05\n",
      "Epoch 30/80\n",
      "23/23 [==============================] - 0s 6ms/step - loss: 3.8811e-05 - mse: 3.8811e-05 - val_loss: 3.9857e-05 - val_mse: 3.9857e-05\n",
      "Epoch 31/80\n",
      "23/23 [==============================] - 0s 6ms/step - loss: 3.8597e-05 - mse: 3.8597e-05 - val_loss: 3.9653e-05 - val_mse: 3.9653e-05\n",
      "Epoch 32/80\n",
      "23/23 [==============================] - 0s 6ms/step - loss: 3.8395e-05 - mse: 3.8395e-05 - val_loss: 3.9460e-05 - val_mse: 3.9460e-05\n",
      "Epoch 33/80\n",
      "23/23 [==============================] - 0s 6ms/step - loss: 3.8197e-05 - mse: 3.8197e-05 - val_loss: 3.9255e-05 - val_mse: 3.9255e-05\n",
      "Epoch 34/80\n",
      "23/23 [==============================] - 0s 6ms/step - loss: 3.8002e-05 - mse: 3.8002e-05 - val_loss: 3.9035e-05 - val_mse: 3.9035e-05\n",
      "Epoch 35/80\n",
      "23/23 [==============================] - 0s 6ms/step - loss: 3.7825e-05 - mse: 3.7825e-05 - val_loss: 3.8866e-05 - val_mse: 3.8866e-05\n",
      "Epoch 36/80\n",
      "23/23 [==============================] - 0s 6ms/step - loss: 3.7588e-05 - mse: 3.7588e-05 - val_loss: 3.8616e-05 - val_mse: 3.8616e-05\n",
      "Epoch 37/80\n",
      "23/23 [==============================] - 0s 6ms/step - loss: 3.7385e-05 - mse: 3.7385e-05 - val_loss: 3.8411e-05 - val_mse: 3.8411e-05\n",
      "Epoch 38/80\n",
      "23/23 [==============================] - 0s 6ms/step - loss: 3.7172e-05 - mse: 3.7172e-05 - val_loss: 3.8235e-05 - val_mse: 3.8235e-05\n",
      "Epoch 39/80\n",
      "23/23 [==============================] - 0s 5ms/step - loss: 3.6956e-05 - mse: 3.6956e-05 - val_loss: 3.7966e-05 - val_mse: 3.7966e-05\n",
      "Epoch 40/80\n",
      "23/23 [==============================] - 0s 5ms/step - loss: 3.6739e-05 - mse: 3.6739e-05 - val_loss: 3.7746e-05 - val_mse: 3.7746e-05\n",
      "Epoch 41/80\n",
      "23/23 [==============================] - 0s 6ms/step - loss: 3.6541e-05 - mse: 3.6541e-05 - val_loss: 3.7561e-05 - val_mse: 3.7561e-05\n",
      "Epoch 42/80\n",
      "23/23 [==============================] - 0s 7ms/step - loss: 3.6322e-05 - mse: 3.6322e-05 - val_loss: 3.7353e-05 - val_mse: 3.7353e-05\n",
      "Epoch 43/80\n",
      "23/23 [==============================] - 0s 6ms/step - loss: 3.6105e-05 - mse: 3.6105e-05 - val_loss: 3.7084e-05 - val_mse: 3.7084e-05\n",
      "Epoch 44/80\n",
      "23/23 [==============================] - 0s 6ms/step - loss: 3.5873e-05 - mse: 3.5873e-05 - val_loss: 3.6854e-05 - val_mse: 3.6854e-05\n",
      "Epoch 45/80\n",
      "23/23 [==============================] - 0s 6ms/step - loss: 3.5648e-05 - mse: 3.5648e-05 - val_loss: 3.6625e-05 - val_mse: 3.6625e-05\n",
      "Epoch 46/80\n",
      "23/23 [==============================] - 0s 6ms/step - loss: 3.5428e-05 - mse: 3.5428e-05 - val_loss: 3.6386e-05 - val_mse: 3.6386e-05\n",
      "Epoch 47/80\n",
      "23/23 [==============================] - 0s 6ms/step - loss: 3.5201e-05 - mse: 3.5201e-05 - val_loss: 3.6195e-05 - val_mse: 3.6195e-05\n",
      "Epoch 48/80\n",
      "23/23 [==============================] - 0s 6ms/step - loss: 3.4991e-05 - mse: 3.4991e-05 - val_loss: 3.5949e-05 - val_mse: 3.5949e-05\n",
      "Epoch 49/80\n",
      "23/23 [==============================] - 0s 7ms/step - loss: 3.4765e-05 - mse: 3.4765e-05 - val_loss: 3.5688e-05 - val_mse: 3.5688e-05\n",
      "Epoch 50/80\n",
      "23/23 [==============================] - 0s 6ms/step - loss: 3.4505e-05 - mse: 3.4505e-05 - val_loss: 3.5450e-05 - val_mse: 3.5450e-05\n",
      "Epoch 51/80\n",
      "23/23 [==============================] - 0s 7ms/step - loss: 3.4267e-05 - mse: 3.4267e-05 - val_loss: 3.5211e-05 - val_mse: 3.5211e-05\n",
      "Epoch 52/80\n",
      "23/23 [==============================] - 0s 9ms/step - loss: 3.4037e-05 - mse: 3.4037e-05 - val_loss: 3.5062e-05 - val_mse: 3.5062e-05\n",
      "Epoch 53/80\n",
      "23/23 [==============================] - 0s 20ms/step - loss: 3.3823e-05 - mse: 3.3823e-05 - val_loss: 3.4740e-05 - val_mse: 3.4740e-05\n",
      "Epoch 54/80\n",
      "23/23 [==============================] - 0s 6ms/step - loss: 3.3569e-05 - mse: 3.3569e-05 - val_loss: 3.4503e-05 - val_mse: 3.4503e-05\n",
      "Epoch 55/80\n",
      "23/23 [==============================] - 0s 7ms/step - loss: 3.3350e-05 - mse: 3.3350e-05 - val_loss: 3.4254e-05 - val_mse: 3.4254e-05\n",
      "Epoch 56/80\n",
      "23/23 [==============================] - 0s 6ms/step - loss: 3.3099e-05 - mse: 3.3099e-05 - val_loss: 3.4014e-05 - val_mse: 3.4014e-05\n",
      "Epoch 57/80\n"
     ]
    },
    {
     "name": "stdout",
     "output_type": "stream",
     "text": [
      "23/23 [==============================] - 0s 6ms/step - loss: 3.2879e-05 - mse: 3.2879e-05 - val_loss: 3.3792e-05 - val_mse: 3.3792e-05\n",
      "Epoch 58/80\n",
      "23/23 [==============================] - 0s 7ms/step - loss: 3.2635e-05 - mse: 3.2635e-05 - val_loss: 3.3524e-05 - val_mse: 3.3524e-05\n",
      "Epoch 59/80\n",
      "23/23 [==============================] - 0s 5ms/step - loss: 3.2401e-05 - mse: 3.2401e-05 - val_loss: 3.3285e-05 - val_mse: 3.3285e-05\n",
      "Epoch 60/80\n",
      "23/23 [==============================] - 0s 7ms/step - loss: 3.2149e-05 - mse: 3.2149e-05 - val_loss: 3.3035e-05 - val_mse: 3.3035e-05\n",
      "Epoch 61/80\n",
      "23/23 [==============================] - 0s 7ms/step - loss: 3.1934e-05 - mse: 3.1934e-05 - val_loss: 3.2853e-05 - val_mse: 3.2853e-05\n",
      "Epoch 62/80\n",
      "23/23 [==============================] - 0s 5ms/step - loss: 3.1698e-05 - mse: 3.1698e-05 - val_loss: 3.2574e-05 - val_mse: 3.2574e-05\n",
      "Epoch 63/80\n",
      "23/23 [==============================] - 0s 7ms/step - loss: 3.1462e-05 - mse: 3.1462e-05 - val_loss: 3.2364e-05 - val_mse: 3.2364e-05\n",
      "Epoch 64/80\n",
      "23/23 [==============================] - 0s 7ms/step - loss: 3.1219e-05 - mse: 3.1219e-05 - val_loss: 3.2061e-05 - val_mse: 3.2061e-05\n",
      "Epoch 65/80\n",
      "23/23 [==============================] - 0s 6ms/step - loss: 3.0949e-05 - mse: 3.0949e-05 - val_loss: 3.1842e-05 - val_mse: 3.1842e-05\n",
      "Epoch 66/80\n",
      "23/23 [==============================] - 0s 6ms/step - loss: 3.0702e-05 - mse: 3.0702e-05 - val_loss: 3.1557e-05 - val_mse: 3.1557e-05\n",
      "Epoch 67/80\n",
      "23/23 [==============================] - 0s 6ms/step - loss: 3.0493e-05 - mse: 3.0493e-05 - val_loss: 3.1333e-05 - val_mse: 3.1333e-05\n",
      "Epoch 68/80\n",
      "23/23 [==============================] - 0s 6ms/step - loss: 3.0233e-05 - mse: 3.0233e-05 - val_loss: 3.1063e-05 - val_mse: 3.1063e-05\n",
      "Epoch 69/80\n",
      "23/23 [==============================] - 0s 7ms/step - loss: 2.9981e-05 - mse: 2.9981e-05 - val_loss: 3.0825e-05 - val_mse: 3.0825e-05\n",
      "Epoch 70/80\n",
      "23/23 [==============================] - 0s 7ms/step - loss: 2.9745e-05 - mse: 2.9745e-05 - val_loss: 3.0571e-05 - val_mse: 3.0571e-05\n",
      "Epoch 71/80\n",
      "23/23 [==============================] - 0s 6ms/step - loss: 2.9517e-05 - mse: 2.9517e-05 - val_loss: 3.0327e-05 - val_mse: 3.0327e-05\n",
      "Epoch 72/80\n",
      "23/23 [==============================] - 0s 5ms/step - loss: 2.9272e-05 - mse: 2.9272e-05 - val_loss: 3.0133e-05 - val_mse: 3.0133e-05\n",
      "Epoch 73/80\n",
      "23/23 [==============================] - 0s 4ms/step - loss: 2.9030e-05 - mse: 2.9030e-05 - val_loss: 2.9832e-05 - val_mse: 2.9832e-05\n",
      "Epoch 74/80\n",
      "23/23 [==============================] - 0s 5ms/step - loss: 2.8777e-05 - mse: 2.8777e-05 - val_loss: 2.9588e-05 - val_mse: 2.9588e-05\n",
      "Epoch 75/80\n",
      "23/23 [==============================] - 0s 5ms/step - loss: 2.8584e-05 - mse: 2.8584e-05 - val_loss: 2.9338e-05 - val_mse: 2.9338e-05\n",
      "Epoch 76/80\n",
      "23/23 [==============================] - 0s 5ms/step - loss: 2.8296e-05 - mse: 2.8296e-05 - val_loss: 2.9093e-05 - val_mse: 2.9093e-05\n",
      "Epoch 77/80\n",
      "23/23 [==============================] - 0s 5ms/step - loss: 2.8058e-05 - mse: 2.8058e-05 - val_loss: 2.8867e-05 - val_mse: 2.8867e-05\n",
      "Epoch 78/80\n",
      "23/23 [==============================] - 0s 5ms/step - loss: 2.7819e-05 - mse: 2.7819e-05 - val_loss: 2.8614e-05 - val_mse: 2.8614e-05\n",
      "Epoch 79/80\n",
      "23/23 [==============================] - 0s 5ms/step - loss: 2.7581e-05 - mse: 2.7581e-05 - val_loss: 2.8362e-05 - val_mse: 2.8362e-05\n",
      "Epoch 80/80\n",
      "23/23 [==============================] - 0s 6ms/step - loss: 2.7341e-05 - mse: 2.7341e-05 - val_loss: 2.8115e-05 - val_mse: 2.8115e-05\n"
     ]
    }
   ],
   "source": [
    "history=model.fit(x_train,y_train,epochs=80,batch_size=500,validation_data=(x_test,y_test))"
   ]
  },
  {
   "cell_type": "code",
   "execution_count": 98,
   "id": "dba8eed6",
   "metadata": {},
   "outputs": [
    {
     "data": {
      "text/plain": [
       "<matplotlib.legend.Legend at 0x1a0e0857820>"
      ]
     },
     "execution_count": 98,
     "metadata": {},
     "output_type": "execute_result"
    },
    {
     "data": {
      "image/png": "[encoded data removed]",
      "text/plain": [
       "<Figure size 640x480 with 1 Axes>"
      ]
     },
     "metadata": {},
     "output_type": "display_data"
    }
   ],
   "source": [
    "plt.plot(range(80),history.history['loss'],label='Train')\n",
    "plt.plot(range(80),history.history['val_loss'],label='Val')\n",
    "plt.title('Loss')\n",
    "plt.legend()"
   ]
  },
  {
   "cell_type": "code",
   "execution_count": 99,
   "id": "8cbf88d0",
   "metadata": {},
   "outputs": [
    {
     "data": {
      "text/plain": [
       "<matplotlib.legend.Legend at 0x1a0e5ff4b20>"
      ]
     },
     "execution_count": 99,
     "metadata": {},
     "output_type": "execute_result"
    },
    {
     "data": {
      "image/png": "[encoded data removed]",
      "text/plain": [
       "<Figure size 640x480 with 1 Axes>"
      ]
     },
     "metadata": {},
     "output_type": "display_data"
    }
   ],
   "source": [
    "plt.plot(range(80),history.history['mse'],label='Train')\n",
    "plt.plot(range(80),history.history['val_mse'],label='Val')\n",
    "plt.title('MSE')\n",
    "plt.legend()"
   ]
  },
  {
   "cell_type": "code",
   "execution_count": 72,
   "id": "69c0b6aa",
   "metadata": {},
   "outputs": [
    {
     "name": "stdout",
     "output_type": "stream",
     "text": [
      "118/118 [==============================] - 0s 2ms/step\n"
     ]
    },
    {
     "data": {
      "text/plain": [
       "array([0.9999996, 0.9999996, 0.9999996, ..., 0.9999996, 0.9999996,\n",
       "       0.9999996], dtype=float32)"
      ]
     },
     "execution_count": 72,
     "metadata": {},
     "output_type": "execute_result"
    }
   ],
   "source": [
    "y_pred=model.predict(x_test).flatten()\n",
    "y_pred"
   ]
  },
  {
   "cell_type": "code",
   "execution_count": 52,
   "id": "c02e8338",
   "metadata": {},
   "outputs": [
    {
     "data": {
      "text/plain": [
       "2.384185791015625e-06"
      ]
     },
     "execution_count": 52,
     "metadata": {},
     "output_type": "execute_result"
    }
   ],
   "source": [
    "np.sqrt(mean_squared_error(y_test,y_pred))"
   ]
  },
  {
   "cell_type": "code",
   "execution_count": 53,
   "id": "44432ee9",
   "metadata": {},
   "outputs": [
    {
     "name": "stdout",
     "output_type": "stream",
     "text": [
      "353/353 [==============================] - 1s 2ms/step - loss: 5.6843e-12 - mse: 5.6843e-12\n"
     ]
    },
    {
     "data": {
      "text/plain": [
       "[5.6843418860808015e-12, 5.6843418860808015e-12]"
      ]
     },
     "execution_count": 53,
     "metadata": {},
     "output_type": "execute_result"
    }
   ],
   "source": [
    "model.evaluate(x_train, y_train)"
   ]
  },
  {
   "cell_type": "code",
   "execution_count": null,
   "id": "7385f249",
   "metadata": {},
   "outputs": [],
   "source": []
  }
 ],
 "metadata": {
  "kernelspec": {
   "display_name": "Python 3 (ipykernel)",
   "language": "python",
   "name": "python3"
  },
  "language_info": {
   "codemirror_mode": {
    "name": "ipython",
    "version": 3
   },
   "file_extension": ".py",
   "mimetype": "text/x-python",
   "name": "python",
   "nbconvert_exporter": "python",
   "pygments_lexer": "ipython3",
   "version": "3.10.9"
  }
 },
 "nbformat": 4,
 "nbformat_minor": 5
}
